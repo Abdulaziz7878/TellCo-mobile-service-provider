{
 "cells": [
  {
   "cell_type": "code",
   "execution_count": null,
   "metadata": {},
   "outputs": [],
   "source": [
    "import sys\n",
    "import os\n",
    "from dotenv import load_dotenv\n",
    "import psycopg2\n",
    "from sqlalchemy import create_engine\n",
    "import pandas as pd"
   ]
  },
  {
   "cell_type": "markdown",
   "metadata": {},
   "source": [
    "Load environment variables"
   ]
  },
  {
   "cell_type": "code",
   "execution_count": null,
   "metadata": {},
   "outputs": [],
   "source": [
    "\n",
    "load_dotenv()\n",
    "user = os.getenv('PG_USER')\n",
    "password = os.getenv('PG_PASSWORD')\n",
    "host = os.getenv('PG_HOST')\n",
    "port = os.getenv('PG_PORT')\n",
    "database = os.getenv('PG_DATABASE')"
   ]
  },
  {
   "cell_type": "code",
   "execution_count": null,
   "metadata": {},
   "outputs": [],
   "source": [
    "def connect():\n",
    "    conn = None\n",
    "    try:\n",
    "        print('Connecting..')\n",
    "        conn = psycopg2.connect(\n",
    "              host=host,\n",
    "              database=database,\n",
    "              user=user,\n",
    "              password=password,\n",
    "              port=port  # Add this line\n",
    "        )\n",
    "    except (Exception, psycopg2.DatabaseError) as error:\n",
    "        print(\"Error: %s\" % error)\n",
    "        sys.exit(1)\n",
    "\n",
    "    print(\"All good, Connection successful!\")\n",
    "    return conn"
   ]
  },
  {
   "cell_type": "code",
   "execution_count": null,
   "metadata": {},
   "outputs": [],
   "source": [
    "def sql_to_dataframe(conn, query):\n",
    "    \"\"\"Import data from a PostgreSQL database using a SELECT query\"\"\"\n",
    "    cursor = conn.cursor()\n",
    "    try:\n",
    "        cursor.execute(query)\n",
    "    except (Exception, psycopg2.DatabaseError) as error:\n",
    "        print(\"Error: %s\" % error)\n",
    "        cursor.close()\n",
    "        return 1\n",
    "    # The execute returns a list of tuples:\n",
    "    tuples_list = cursor.fetchall()\n",
    "\n",
    "    # Now we need to transform the list into a pandas DataFrame:\n",
    "    df = pd.DataFrame(tuples_list, columns=[col[0] for col in cursor.description])\n",
    "    cursor.close()\n",
    "    return df"
   ]
  },
  {
   "cell_type": "code",
   "execution_count": null,
   "metadata": {},
   "outputs": [],
   "source": [
    "query = \"\"\" SELECT * FROM public.xdr_data  \"\"\"\n",
    "\n",
    "#opening the connection\n",
    "conn = connect()\n",
    "\n",
    "#loading our dataframe\n",
    "df = sql_to_dataframe(conn, query)\n",
    "\n",
    "#closing the connection\n",
    "conn.close()"
   ]
  },
  {
   "cell_type": "code",
   "execution_count": null,
   "metadata": {},
   "outputs": [],
   "source": [
    "df.head()"
   ]
  },
  {
   "cell_type": "code",
   "execution_count": null,
   "metadata": {},
   "outputs": [],
   "source": [
    "def data_from_postgres(query):\n",
    "    # Create the URI\n",
    "    uri = f\"postgresql+psycopg2://{user}:{password}@{host}:{port}/{database}\"\n",
    "\n",
    "    # Create the engine\n",
    "    try:\n",
    "        alchemyEngine = create_engine(uri)\n",
    "\n",
    "    except (Exception, psycopg2.DatabaseError) as error:\n",
    "        print(\"Error: %s\" % error)\n",
    "        sys.exit(1)\n",
    "    print(\"Engine created!\")\n",
    "    # Connect to PostgreSQL server\n",
    "    try:\n",
    "        dbConnection = alchemyEngine.connect()\n",
    "    except (Exception, psycopg2.DatabaseError) as error:\n",
    "        print(\"Error: %s\" % error)\n",
    "        sys.exit(1)\n",
    "\n",
    "    print(\"Connection established\")\n",
    "    df = pd.read_sql(query, dbConnection)\n",
    "    # Close connection\n",
    "    dbConnection.close()\n",
    "\n",
    "    return df"
   ]
  },
  {
   "cell_type": "code",
   "execution_count": null,
   "metadata": {},
   "outputs": [],
   "source": [
    "# create query\n",
    "query = \"SELECT * FROM public.xdr_data\""
   ]
  },
  {
   "cell_type": "code",
   "execution_count": null,
   "metadata": {},
   "outputs": [],
   "source": [
    "df = data_from_postgres(query)"
   ]
  },
  {
   "cell_type": "code",
   "execution_count": null,
   "metadata": {},
   "outputs": [],
   "source": [
    "df.head()"
   ]
  }
 ],
 "metadata": {
  "kernelspec": {
   "display_name": "week2",
   "language": "python",
   "name": "python3"
  },
  "language_info": {
   "name": "python",
   "version": "3.12.5"
  }
 },
 "nbformat": 4,
 "nbformat_minor": 2
}
